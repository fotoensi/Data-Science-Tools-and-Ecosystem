{
  "metadata": {
    "kernelspec": {
      "name": "python",
      "display_name": "Python (Pyodide)",
      "language": "python"
    },
    "language_info": {
      "codemirror_mode": {
        "name": "python",
        "version": 3
      },
      "file_extension": ".py",
      "mimetype": "text/x-python",
      "name": "python",
      "nbconvert_exporter": "python",
      "pygments_lexer": "ipython3",
      "version": "3.8"
    }
  },
  "nbformat_minor": 5,
  "nbformat": 4,
  "cells": [
    {
      "cell_type": "markdown",
      "source": "<h1 style=\"font-size: 36px;\">Data Science Tools and Ecosystem</h1>\n",
      "metadata": {
        "trusted": true
      },
      "id": "9738c090-063d-49a1-92ca-5ee28b6ffa8e"
    },
    {
      "cell_type": "markdown",
      "source": "In this notebook, Data Science Tools and Ecosystem are summarized.",
      "metadata": {
        "trusted": true
      },
      "id": "15b186e6-44c9-4b81-9bc0-4fb4a8bff402"
    },
    {
      "cell_type": "markdown",
      "source": "Some of the popular languages that Data Scientists use are:\n1. Python\n2. R\n3. SQL",
      "metadata": {
        "trusted": true
      },
      "id": "a14e97b5-3868-43e3-ad0c-c3ec22371118"
    },
    {
      "cell_type": "markdown",
      "source": "Some of the commonly used libraries used by Data Scientists include:\n1. NumPy\n2. Pandas\n3. Matplotlib\n4. Seaborn\n5. Scikit-learn",
      "metadata": {
        "trusted": true
      },
      "id": "436e7001-24af-4e7a-86f2-91c31ad84070"
    },
    {
      "cell_type": "markdown",
      "source": "| Data Science Tools |\n|----------------------|\n| Jupyter Notebook |\n| RStudio |\n| Spyder |\n",
      "metadata": {
        "trusted": true
      },
      "id": "bc67fe3e-5b3f-428e-8fe5-b03889545515"
    },
    {
      "cell_type": "code",
      "source": "",
      "metadata": {
        "trusted": true
      },
      "execution_count": null,
      "outputs": [],
      "id": "7cfeef4f-1c5e-49aa-93eb-78a98662f03a"
    },
    {
      "cell_type": "code",
      "source": "# This is a simple arithmetic expression to multiply then add integers\n(3*4)+5",
      "metadata": {
        "trusted": true
      },
      "execution_count": 1,
      "outputs": [
        {
          "execution_count": 1,
          "output_type": "execute_result",
          "data": {
            "text/plain": "17"
          },
          "metadata": {}
        }
      ],
      "id": "a11a89f2-17af-4dc8-bfec-781005fc74fd"
    },
    {
      "cell_type": "code",
      "source": "# This will convert 200 minutes to hours by dividing by 60\n200 / 60\n",
      "metadata": {
        "trusted": true
      },
      "execution_count": 2,
      "outputs": [
        {
          "execution_count": 2,
          "output_type": "execute_result",
          "data": {
            "text/plain": "3.3333333333333335"
          },
          "metadata": {}
        }
      ],
      "id": "50c770d4-940e-4801-8fe1-d3526eec9411"
    },
    {
      "cell_type": "markdown",
      "source": "**Objectives:**\n\n- List popular languages for Data Science\n- Introduce the Jupyter Notebook environment\n- Explain the basics of Python programming\n- Demonstrate how to use libraries such as NumPy and Pandas for data analysis\n- Illustrate how to create visualizations with Matplotlib and Seaborn\n",
      "metadata": {
        "trusted": true
      },
      "id": "5d4b940a-55c9-4b4b-ba77-fece410c0cf0"
    },
    {
      "cell_type": "markdown",
      "source": "## Author\n\nMy name is [Enri Xheka].\n",
      "metadata": {
        "trusted": true
      },
      "id": "ce48237d-178a-46c7-9f74-795bf145d35f"
    },
    {
      "cell_type": "code",
      "source": "",
      "metadata": {
        "trusted": true
      },
      "execution_count": null,
      "outputs": [],
      "id": "a6073cbc-c650-440a-9a95-577eb81c8549"
    }
  ]
}